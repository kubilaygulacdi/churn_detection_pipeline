{
 "cells": [
  {
   "cell_type": "code",
   "execution_count": 1,
   "id": "1d76e660",
   "metadata": {},
   "outputs": [],
   "source": [
    "import pandas as pd\n",
    "import numpy as np\n",
    "import seaborn as sns\n",
    "import matplotlib.pyplot as plt\n",
    "\n",
    "from sklearn.preprocessing import LabelEncoder, StandardScaler, OneHotEncoder, MinMaxScaler\n",
    "from sklearn.model_selection import train_test_split, KFold, StratifiedKFold\n",
    "from sklearn.metrics import classification_report, confusion_matrix, accuracy_score, ConfusionMatrixDisplay, roc_curve, recall_score, f1_score, roc_auc_score, precision_score, RocCurveDisplay\n",
    "from lightgbm import LGBMClassifier\n",
    "from catboost import CatBoostClassifier\n",
    "from sklearn.ensemble import RandomForestClassifier, GradientBoostingClassifier, AdaBoostClassifier\n",
    "from sklearn.linear_model import LogisticRegression\n",
    "from sklearn.model_selection import cross_validate, GridSearchCV, cross_val_score\n",
    "from sklearn.neighbors import KNeighborsClassifier\n",
    "from sklearn.preprocessing import StandardScaler\n",
    "from sklearn.svm import SVC\n",
    "from sklearn.tree import DecisionTreeClassifier\n",
    "from xgboost import XGBClassifier\n",
    "\n",
    "from sklearn.pipeline import Pipeline\n",
    "from sklearn.compose import ColumnTransformer\n",
    "\n",
    "import warnings\n",
    "warnings.filterwarnings(\"ignore\")"
   ]
  },
  {
   "cell_type": "code",
   "execution_count": 2,
   "id": "441848d7",
   "metadata": {},
   "outputs": [
    {
     "data": {
      "text/html": [
       "<div>\n",
       "<style scoped>\n",
       "    .dataframe tbody tr th:only-of-type {\n",
       "        vertical-align: middle;\n",
       "    }\n",
       "\n",
       "    .dataframe tbody tr th {\n",
       "        vertical-align: top;\n",
       "    }\n",
       "\n",
       "    .dataframe thead th {\n",
       "        text-align: right;\n",
       "    }\n",
       "</style>\n",
       "<table border=\"1\" class=\"dataframe\">\n",
       "  <thead>\n",
       "    <tr style=\"text-align: right;\">\n",
       "      <th></th>\n",
       "      <th>customerID</th>\n",
       "      <th>gender</th>\n",
       "      <th>SeniorCitizen</th>\n",
       "      <th>Partner</th>\n",
       "      <th>Dependents</th>\n",
       "      <th>tenure</th>\n",
       "      <th>PhoneService</th>\n",
       "      <th>MultipleLines</th>\n",
       "      <th>InternetService</th>\n",
       "      <th>OnlineSecurity</th>\n",
       "      <th>...</th>\n",
       "      <th>DeviceProtection</th>\n",
       "      <th>TechSupport</th>\n",
       "      <th>StreamingTV</th>\n",
       "      <th>StreamingMovies</th>\n",
       "      <th>Contract</th>\n",
       "      <th>PaperlessBilling</th>\n",
       "      <th>PaymentMethod</th>\n",
       "      <th>MonthlyCharges</th>\n",
       "      <th>TotalCharges</th>\n",
       "      <th>Churn</th>\n",
       "    </tr>\n",
       "  </thead>\n",
       "  <tbody>\n",
       "    <tr>\n",
       "      <th>0</th>\n",
       "      <td>7590-VHVEG</td>\n",
       "      <td>Female</td>\n",
       "      <td>0</td>\n",
       "      <td>Yes</td>\n",
       "      <td>No</td>\n",
       "      <td>1</td>\n",
       "      <td>No</td>\n",
       "      <td>No phone service</td>\n",
       "      <td>DSL</td>\n",
       "      <td>No</td>\n",
       "      <td>...</td>\n",
       "      <td>No</td>\n",
       "      <td>No</td>\n",
       "      <td>No</td>\n",
       "      <td>No</td>\n",
       "      <td>Month-to-month</td>\n",
       "      <td>Yes</td>\n",
       "      <td>Electronic check</td>\n",
       "      <td>29.85</td>\n",
       "      <td>29.85</td>\n",
       "      <td>No</td>\n",
       "    </tr>\n",
       "    <tr>\n",
       "      <th>1</th>\n",
       "      <td>5575-GNVDE</td>\n",
       "      <td>Male</td>\n",
       "      <td>0</td>\n",
       "      <td>No</td>\n",
       "      <td>No</td>\n",
       "      <td>34</td>\n",
       "      <td>Yes</td>\n",
       "      <td>No</td>\n",
       "      <td>DSL</td>\n",
       "      <td>Yes</td>\n",
       "      <td>...</td>\n",
       "      <td>Yes</td>\n",
       "      <td>No</td>\n",
       "      <td>No</td>\n",
       "      <td>No</td>\n",
       "      <td>One year</td>\n",
       "      <td>No</td>\n",
       "      <td>Mailed check</td>\n",
       "      <td>56.95</td>\n",
       "      <td>1889.5</td>\n",
       "      <td>No</td>\n",
       "    </tr>\n",
       "    <tr>\n",
       "      <th>2</th>\n",
       "      <td>3668-QPYBK</td>\n",
       "      <td>Male</td>\n",
       "      <td>0</td>\n",
       "      <td>No</td>\n",
       "      <td>No</td>\n",
       "      <td>2</td>\n",
       "      <td>Yes</td>\n",
       "      <td>No</td>\n",
       "      <td>DSL</td>\n",
       "      <td>Yes</td>\n",
       "      <td>...</td>\n",
       "      <td>No</td>\n",
       "      <td>No</td>\n",
       "      <td>No</td>\n",
       "      <td>No</td>\n",
       "      <td>Month-to-month</td>\n",
       "      <td>Yes</td>\n",
       "      <td>Mailed check</td>\n",
       "      <td>53.85</td>\n",
       "      <td>108.15</td>\n",
       "      <td>Yes</td>\n",
       "    </tr>\n",
       "    <tr>\n",
       "      <th>3</th>\n",
       "      <td>7795-CFOCW</td>\n",
       "      <td>Male</td>\n",
       "      <td>0</td>\n",
       "      <td>No</td>\n",
       "      <td>No</td>\n",
       "      <td>45</td>\n",
       "      <td>No</td>\n",
       "      <td>No phone service</td>\n",
       "      <td>DSL</td>\n",
       "      <td>Yes</td>\n",
       "      <td>...</td>\n",
       "      <td>Yes</td>\n",
       "      <td>Yes</td>\n",
       "      <td>No</td>\n",
       "      <td>No</td>\n",
       "      <td>One year</td>\n",
       "      <td>No</td>\n",
       "      <td>Bank transfer (automatic)</td>\n",
       "      <td>42.30</td>\n",
       "      <td>1840.75</td>\n",
       "      <td>No</td>\n",
       "    </tr>\n",
       "    <tr>\n",
       "      <th>4</th>\n",
       "      <td>9237-HQITU</td>\n",
       "      <td>Female</td>\n",
       "      <td>0</td>\n",
       "      <td>No</td>\n",
       "      <td>No</td>\n",
       "      <td>2</td>\n",
       "      <td>Yes</td>\n",
       "      <td>No</td>\n",
       "      <td>Fiber optic</td>\n",
       "      <td>No</td>\n",
       "      <td>...</td>\n",
       "      <td>No</td>\n",
       "      <td>No</td>\n",
       "      <td>No</td>\n",
       "      <td>No</td>\n",
       "      <td>Month-to-month</td>\n",
       "      <td>Yes</td>\n",
       "      <td>Electronic check</td>\n",
       "      <td>70.70</td>\n",
       "      <td>151.65</td>\n",
       "      <td>Yes</td>\n",
       "    </tr>\n",
       "  </tbody>\n",
       "</table>\n",
       "<p>5 rows × 21 columns</p>\n",
       "</div>"
      ],
      "text/plain": [
       "   customerID  gender  SeniorCitizen Partner Dependents  tenure PhoneService  \\\n",
       "0  7590-VHVEG  Female              0     Yes         No       1           No   \n",
       "1  5575-GNVDE    Male              0      No         No      34          Yes   \n",
       "2  3668-QPYBK    Male              0      No         No       2          Yes   \n",
       "3  7795-CFOCW    Male              0      No         No      45           No   \n",
       "4  9237-HQITU  Female              0      No         No       2          Yes   \n",
       "\n",
       "      MultipleLines InternetService OnlineSecurity  ... DeviceProtection  \\\n",
       "0  No phone service             DSL             No  ...               No   \n",
       "1                No             DSL            Yes  ...              Yes   \n",
       "2                No             DSL            Yes  ...               No   \n",
       "3  No phone service             DSL            Yes  ...              Yes   \n",
       "4                No     Fiber optic             No  ...               No   \n",
       "\n",
       "  TechSupport StreamingTV StreamingMovies        Contract PaperlessBilling  \\\n",
       "0          No          No              No  Month-to-month              Yes   \n",
       "1          No          No              No        One year               No   \n",
       "2          No          No              No  Month-to-month              Yes   \n",
       "3         Yes          No              No        One year               No   \n",
       "4          No          No              No  Month-to-month              Yes   \n",
       "\n",
       "               PaymentMethod MonthlyCharges  TotalCharges Churn  \n",
       "0           Electronic check          29.85         29.85    No  \n",
       "1               Mailed check          56.95        1889.5    No  \n",
       "2               Mailed check          53.85        108.15   Yes  \n",
       "3  Bank transfer (automatic)          42.30       1840.75    No  \n",
       "4           Electronic check          70.70        151.65   Yes  \n",
       "\n",
       "[5 rows x 21 columns]"
      ]
     },
     "execution_count": 2,
     "metadata": {},
     "output_type": "execute_result"
    }
   ],
   "source": [
    "df = pd.read_csv(\"churn.csv\")\n",
    "df.head()"
   ]
  },
  {
   "cell_type": "code",
   "execution_count": 3,
   "id": "86fc372c",
   "metadata": {},
   "outputs": [
    {
     "name": "stdout",
     "output_type": "stream",
     "text": [
      "<class 'pandas.core.frame.DataFrame'>\n",
      "RangeIndex: 7043 entries, 0 to 7042\n",
      "Data columns (total 21 columns):\n",
      " #   Column            Non-Null Count  Dtype  \n",
      "---  ------            --------------  -----  \n",
      " 0   customerID        7043 non-null   object \n",
      " 1   gender            7043 non-null   object \n",
      " 2   SeniorCitizen     7043 non-null   int64  \n",
      " 3   Partner           7043 non-null   object \n",
      " 4   Dependents        7043 non-null   object \n",
      " 5   tenure            7043 non-null   int64  \n",
      " 6   PhoneService      7043 non-null   object \n",
      " 7   MultipleLines     7043 non-null   object \n",
      " 8   InternetService   7043 non-null   object \n",
      " 9   OnlineSecurity    7043 non-null   object \n",
      " 10  OnlineBackup      7043 non-null   object \n",
      " 11  DeviceProtection  7043 non-null   object \n",
      " 12  TechSupport       7043 non-null   object \n",
      " 13  StreamingTV       7043 non-null   object \n",
      " 14  StreamingMovies   7043 non-null   object \n",
      " 15  Contract          7043 non-null   object \n",
      " 16  PaperlessBilling  7043 non-null   object \n",
      " 17  PaymentMethod     7043 non-null   object \n",
      " 18  MonthlyCharges    7043 non-null   float64\n",
      " 19  TotalCharges      7043 non-null   object \n",
      " 20  Churn             7043 non-null   object \n",
      "dtypes: float64(1), int64(2), object(18)\n",
      "memory usage: 1.1+ MB\n"
     ]
    }
   ],
   "source": [
    "df.info()"
   ]
  },
  {
   "cell_type": "markdown",
   "id": "e4297996",
   "metadata": {},
   "source": [
    "# Data Preprocess"
   ]
  },
  {
   "cell_type": "code",
   "execution_count": 4,
   "id": "78dbcdc4",
   "metadata": {},
   "outputs": [
    {
     "name": "stdout",
     "output_type": "stream",
     "text": [
      "Categorical_cols:  ['gender', 'Partner', 'Dependents', 'PhoneService', 'MultipleLines', 'InternetService', 'OnlineSecurity', 'OnlineBackup', 'DeviceProtection', 'TechSupport', 'StreamingTV', 'StreamingMovies', 'Contract', 'PaperlessBilling', 'PaymentMethod', 'SeniorCitizen']\n",
      "Numerical cols:  ['tenure', 'MonthlyCharges', 'TotalCharges']\n",
      "Binary cols:  ['gender', 'SeniorCitizen', 'Partner', 'Dependents', 'PhoneService', 'MultipleLines', 'OnlineSecurity', 'OnlineBackup', 'DeviceProtection', 'TechSupport', 'StreamingTV', 'StreamingMovies', 'PaperlessBilling', 'Churn']\n",
      "Ohe_cols:  ['InternetService', 'Contract', 'PaymentMethod']\n"
     ]
    }
   ],
   "source": [
    "target = \"Churn\"\n",
    "\n",
    "df[\"TotalCharges\"] = df[\"TotalCharges\"].apply(lambda row: row.replace(\" \", \"0\"))\n",
    "df[\"TotalCharges\"] = df[\"TotalCharges\"].apply(lambda row: float(row.format(\".2f\")))\n",
    "\n",
    "df[['OnlineSecurity','OnlineBackup','DeviceProtection','TechSupport','StreamingTV','StreamingMovies']] = df[['OnlineSecurity','OnlineBackup','DeviceProtection','TechSupport','StreamingTV','StreamingMovies']].replace('No internet service','No')\n",
    "df[\"MultipleLines\"]= df[\"MultipleLines\"].replace(\"No phone service\", \"No\")\n",
    "\n",
    "cols = df.columns\n",
    "\n",
    "cat_cols = [col for col in cols if df[col].dtype == \"O\" and df[col].nunique() < 10]\n",
    "num_cols = [col for col in cols if df[col].dtype != \"O\"]\n",
    "num_but_cat = [col for col in num_cols if col in num_cols and df[col].nunique() < 10]\n",
    "\n",
    "cat_cols = cat_cols + num_but_cat\n",
    "num_cols = [col for col in num_cols if col not in num_but_cat]\n",
    "\n",
    "binary_cols = [col for col in cols if df[col].nunique() == 2]\n",
    "ohe_cols = [col for col in cat_cols if df[col].nunique() > 2]\n",
    "\n",
    "cat_cols.remove(target)\n",
    "\n",
    "print(\"Categorical_cols: \", cat_cols)\n",
    "print(\"Numerical cols: \", num_cols)\n",
    "print(\"Binary cols: \", binary_cols)\n",
    "print(\"Ohe_cols: \", ohe_cols)"
   ]
  },
  {
   "cell_type": "markdown",
   "id": "055f171f",
   "metadata": {},
   "source": [
    "# Pipeline"
   ]
  },
  {
   "cell_type": "code",
   "execution_count": 5,
   "id": "e4030b4f",
   "metadata": {},
   "outputs": [
    {
     "name": "stdout",
     "output_type": "stream",
     "text": [
      "LR Recall -> 0.5297658862876253\n",
      "\n",
      "KNN Recall -> 0.4367892976588629\n",
      "\n",
      "CART Recall -> 0.5036789297658862\n",
      "\n",
      "RF Recall -> 0.4642140468227424\n",
      "\n",
      "GBM Recall -> 0.5076923076923077\n",
      "\n",
      "XGB Recall -> 0.5150501672240803\n",
      "\n",
      "LGBM Recall -> 0.5036789297658862\n",
      "\n",
      "ADA Recall -> 0.5250836120401338\n",
      "\n",
      "CatBoost Recall -> 0.494314381270903\n",
      "\n"
     ]
    }
   ],
   "source": [
    "# Base model(without scaling)\n",
    "\n",
    "models = [(\"LR\", LogisticRegression()),\n",
    "         (\"KNN\", KNeighborsClassifier()),\n",
    "         (\"CART\", DecisionTreeClassifier()),\n",
    "         (\"RF\", RandomForestClassifier()),\n",
    "         (\"GBM\", GradientBoostingClassifier()),\n",
    "         (\"XGB\", XGBClassifier()),\n",
    "         (\"LGBM\", LGBMClassifier(verbose=0)),\n",
    "         (\"ADA\", AdaBoostClassifier()),\n",
    "         (\"CatBoost\", CatBoostClassifier(verbose=False))\n",
    "          ]\n",
    "for col in binary_cols:\n",
    "    le = LabelEncoder()\n",
    "    df[col] = le.fit_transform(df[col])\n",
    "\n",
    "transformer = ColumnTransformer([(\"OHE\", OneHotEncoder(drop=\"if_binary\"), ohe_cols)], \n",
    "                                remainder=\"passthrough\")\n",
    "\n",
    "X = df.drop([target, \"customerID\"], axis=1)\n",
    "y = df[target]\n",
    "\n",
    "X_train, X_test, y_train, y_test = train_test_split(X, y, test_size=0.2, stratify=y, random_state=44)\n",
    "\n",
    "for name, model in models:\n",
    "    \n",
    "    pipe = Pipeline([(\"transformer\", transformer),\n",
    "                    (\"model\", model)])\n",
    "    \n",
    "    y_pred = pipe.fit(X_train, y_train).predict(X_test)\n",
    "    \n",
    "    kfold = StratifiedKFold(n_splits=5, random_state=42, shuffle=True)\n",
    "    cv_result = cross_val_score(pipe, X_train, y_train, cv=kfold, scoring=\"recall\")\n",
    "    \n",
    "    print(f\"{name} Recall -> {cv_result.mean()}\\n\")"
   ]
  },
  {
   "cell_type": "code",
   "execution_count": 6,
   "id": "e02cb3c3",
   "metadata": {},
   "outputs": [
    {
     "name": "stdout",
     "output_type": "stream",
     "text": [
      "LR Recall with scaled -> 0.5311036789297658\n",
      "\n",
      "KNN Recall with scaled -> 0.51438127090301\n",
      "\n",
      "CART Recall with scaled -> 0.5023411371237458\n",
      "\n",
      "RF Recall with scaled -> 0.4802675585284281\n",
      "\n",
      "GBM Recall with scaled -> 0.5076923076923077\n",
      "\n",
      "XGB Recall with scaled -> 0.5150501672240803\n",
      "\n",
      "LGBM Recall with scaled -> 0.5090301003344482\n",
      "\n",
      "ADA Recall with scaled -> 0.5250836120401338\n",
      "\n",
      "CatBoost Recall with scaled -> 0.494314381270903\n",
      "\n"
     ]
    }
   ],
   "source": [
    "# With Scaling\n",
    "\n",
    "transformer = ColumnTransformer([(\"OHE\", OneHotEncoder(drop=\"if_binary\"), ohe_cols),\n",
    "                                (\"Scaler\", MinMaxScaler(), num_cols)], \n",
    "                                remainder=\"passthrough\")\n",
    "\n",
    "for name, model in models:\n",
    "    \n",
    "    pipe = Pipeline([(\"transformer\", transformer),\n",
    "                    (\"model\", model)])\n",
    "    \n",
    "    y_pred = pipe.fit(X_train, y_train).predict(X_test)\n",
    "    \n",
    "    kfold = StratifiedKFold(n_splits=5, random_state=42, shuffle=True)\n",
    "    cv_result = cross_val_score(pipe, X_train, y_train, cv=kfold, scoring=\"recall\")\n",
    "    \n",
    "    print(f\"{name} Recall with scaled -> {cv_result.mean()}\\n\")"
   ]
  },
  {
   "cell_type": "code",
   "execution_count": 11,
   "id": "00d61607",
   "metadata": {},
   "outputs": [
    {
     "name": "stdout",
     "output_type": "stream",
     "text": [
      "LR Recall with both balanced and scaled -> 0.7973244147157191\n",
      "\n",
      "KNN Recall with both balanced and scaled -> 0.51438127090301\n",
      "\n",
      "CART Recall with both balanced and scaled -> 0.4695652173913044\n",
      "\n",
      "RF Recall with both balanced and scaled -> 0.4662207357859532\n",
      "\n",
      "GBM Recall with both balanced and scaled -> 0.5076923076923077\n",
      "\n",
      "XGB Recall with both balanced and scaled -> 0.7177257525083611\n",
      "\n",
      "LGBM Recall with both balanced and scaled -> 0.7217391304347827\n",
      "\n",
      "ADA Recall with both balanced and scaled -> 0.5250836120401338\n",
      "\n",
      "CatBoost Recall with both balanced and scaled -> 0.8234113712374581\n",
      "\n"
     ]
    }
   ],
   "source": [
    "# Model dealing with imbalanced using both class_weight=\"balanced\" and scale_pos_weight\n",
    "\n",
    "models = [(\"LR\", LogisticRegression(class_weight=\"balanced\")),\n",
    "         (\"KNN\", KNeighborsClassifier()),\n",
    "         (\"CART\", DecisionTreeClassifier(class_weight=\"balanced\")),\n",
    "         (\"RF\", RandomForestClassifier(class_weight=\"balanced\")),\n",
    "         (\"GBM\", GradientBoostingClassifier()),\n",
    "         (\"XGB\", XGBClassifier(eval_metric='mlogloss', scale_pos_weight=5)),\n",
    "         (\"LGBM\", LGBMClassifier(verbose=0, class_weight=\"balanced\")),\n",
    "         (\"ADA\", AdaBoostClassifier()),\n",
    "         (\"CatBoost\", CatBoostClassifier(scale_pos_weight=5,verbose=False))\n",
    "          ]\n",
    "\n",
    "for name, model in models:\n",
    "    \n",
    "    pipe = Pipeline([(\"transformer\", transformer),\n",
    "                    (\"model\", model)])\n",
    "    \n",
    "    y_pred = pipe.fit(X_train, y_train).predict(X_test)\n",
    "    \n",
    "    kfold = StratifiedKFold(n_splits=5, random_state=42, shuffle=True)\n",
    "    cv_result = cross_val_score(pipe, X_train, y_train, cv=kfold, scoring=\"recall\")\n",
    "    \n",
    "    print(f\"{name} Recall with both balanced and scaled -> {cv_result.mean()}\\n\")"
   ]
  },
  {
   "cell_type": "code",
   "execution_count": 17,
   "id": "5cbc43ce",
   "metadata": {},
   "outputs": [
    {
     "data": {
      "text/plain": [
       "Text(0.5, 1.0, 'LogisticRegression ROC Curve')"
      ]
     },
     "execution_count": 17,
     "metadata": {},
     "output_type": "execute_result"
    },
    {
     "data": {
      "image/png": "[encoded data removed]",
      "text/plain": [
       "<Figure size 640x480 with 1 Axes>"
      ]
     },
     "metadata": {},
     "output_type": "display_data"
    }
   ],
   "source": [
    "pipe_lr = Pipeline([(\"transformer\", transformer),\n",
    "                   (\"clf\", LogisticRegression(class_weight=\"balanced\"))])\n",
    "\n",
    "y_pred_lr = pipe_lr.fit(X_train, y_train).predict(X_test)\n",
    "\n",
    "RocCurveDisplay.from_estimator(pipe_lr, X_test, y_test)\n",
    "plt.title(\"LogisticRegression ROC Curve\")"
   ]
  },
  {
   "cell_type": "code",
   "execution_count": 22,
   "id": "f361a081",
   "metadata": {},
   "outputs": [
    {
     "name": "stdout",
     "output_type": "stream",
     "text": [
      "              precision    recall  f1-score   support\n",
      "\n",
      "           0       0.92      0.73      0.81      1035\n",
      "           1       0.52      0.81      0.64       374\n",
      "\n",
      "    accuracy                           0.75      1409\n",
      "   macro avg       0.72      0.77      0.73      1409\n",
      "weighted avg       0.81      0.75      0.77      1409\n",
      "\n"
     ]
    }
   ],
   "source": [
    "# LR Scores\n",
    "print(classification_report(y_test, y_pred_lr))"
   ]
  },
  {
   "cell_type": "code",
   "execution_count": 23,
   "id": "33d111ad",
   "metadata": {},
   "outputs": [],
   "source": [
    "def plot_confusion_matrix(y, y_pred):\n",
    "    cm = confusion_matrix(y_test, y_pred)\n",
    "    disp = ConfusionMatrixDisplay(cm)\n",
    "    disp.plot(cmap=plt.cm.Blues)\n",
    "    plt.title('Confusion Matrix')\n",
    "    plt.show()"
   ]
  },
  {
   "cell_type": "code",
   "execution_count": 24,
   "id": "fb35a3c8",
   "metadata": {},
   "outputs": [
    {
     "data": {
      "image/png": "[encoded data removed]",
      "text/plain": [
       "<Figure size 640x480 with 2 Axes>"
      ]
     },
     "metadata": {},
     "output_type": "display_data"
    }
   ],
   "source": [
    "plot_confusion_matrix(y_test, y_pred_lr)"
   ]
  },
  {
   "cell_type": "code",
   "execution_count": 18,
   "id": "856bb721",
   "metadata": {},
   "outputs": [
    {
     "data": {
      "text/plain": [
       "Text(0.5, 1.0, 'CatBoost ROC Curve')"
      ]
     },
     "execution_count": 18,
     "metadata": {},
     "output_type": "execute_result"
    },
    {
     "data": {
      "image/png": "[encoded data removed]",
      "text/plain": [
       "<Figure size 640x480 with 1 Axes>"
      ]
     },
     "metadata": {},
     "output_type": "display_data"
    }
   ],
   "source": [
    "pipe_cat = Pipeline([(\"transformer\", transformer),\n",
    "                   (\"clf\", CatBoostClassifier(scale_pos_weight=5,verbose=False))\n",
    "                   ])\n",
    "\n",
    "y_pred_cat = pipe_cat.fit(X_train, y_train).predict(X_test)\n",
    "\n",
    "RocCurveDisplay.from_estimator(pipe_cat, X_test, y_test)\n",
    "plt.title(\"CatBoost ROC Curve\")"
   ]
  },
  {
   "cell_type": "code",
   "execution_count": 20,
   "id": "0e1d2ca8",
   "metadata": {},
   "outputs": [
    {
     "name": "stdout",
     "output_type": "stream",
     "text": [
      "              precision    recall  f1-score   support\n",
      "\n",
      "           0       0.93      0.69      0.79      1035\n",
      "           1       0.50      0.86      0.63       374\n",
      "\n",
      "    accuracy                           0.74      1409\n",
      "   macro avg       0.72      0.78      0.71      1409\n",
      "weighted avg       0.82      0.74      0.75      1409\n",
      "\n"
     ]
    }
   ],
   "source": [
    "# CatBoost Scores\n",
    "print(classification_report(y_test, y_pred_cat))"
   ]
  },
  {
   "cell_type": "code",
   "execution_count": 25,
   "id": "82c16112",
   "metadata": {},
   "outputs": [
    {
     "data": {
      "image/png": "[encoded data removed]",
      "text/plain": [
       "<Figure size 640x480 with 2 Axes>"
      ]
     },
     "metadata": {},
     "output_type": "display_data"
    }
   ],
   "source": [
    "plot_confusion_matrix(y_test, y_pred_cat)"
   ]
  },
  {
   "cell_type": "markdown",
   "id": "cd0db78d",
   "metadata": {},
   "source": [
    "# Results"
   ]
  },
  {
   "cell_type": "markdown",
   "id": "8f4baad4",
   "metadata": {},
   "source": [
    "- The important metric for us in churn problems is the <b>Recall Score (TP/ TP + FN)</b>. Because we need to be able to identify the Churn ones (True Positive) and ensure that the company does not lose profit.\n",
    "- scale_pos_weight is an XGBoost (eXtreme Gradient Boosting) parameter that is used especially in a classification problem with unbalanced classes. XGBoost is a tree-based learning algorithm for dealing with weighted classes. The scale_pos_weight parameter helps you determine how to weight the instances of the positive class relative to the negative class.\n",
    "- A classification problem with unbalanced classes refers to a situation where the positive class has fewer instances than the negative class. In such cases, you may want to increase the model's ability to correctly classify the positive class. The scale_pos_weight parameter can correct this imbalance.\n",
    "- The value of scale_pos_weight specifies how much heavier the negative class should be than the positive class. For example, if the positive class is rarer, you can set scale_pos_weight to reflect the rarity of the positive class relative to the negative class. This can help the model emphasize the positive class more and help you achieve a more balanced result.\n",
    "- class_weight allow us to adjust class weight. In imbalanced datasets, we can increase the weight of minority class. For example class_weight=\"balanced\" means for both negative and positive class' weights are equal. If we use the parameter like {0:2,1:8} it means that positive class is four time greater than the negative class. \n",
    "- class_weight=\"balanced\" captures more true events (higher TRUE recall) but also you are more likely to get false alerts (lower TRUE precision).\n",
    "- CatBoostClassifier with <b>0.86 Recall Score</b> is the best classifier. After CatBoostClassifier, top 2 is LogisticRegression with <b> 0.81 Recall Score </b>"
   ]
  }
 ],
 "metadata": {
  "kernelspec": {
   "display_name": "Python 3 (ipykernel)",
   "language": "python",
   "name": "python3"
  },
  "language_info": {
   "codemirror_mode": {
    "name": "ipython",
    "version": 3
   },
   "file_extension": ".py",
   "mimetype": "text/x-python",
   "name": "python",
   "nbconvert_exporter": "python",
   "pygments_lexer": "ipython3",
   "version": "3.11.4"
  }
 },
 "nbformat": 4,
 "nbformat_minor": 5
}
